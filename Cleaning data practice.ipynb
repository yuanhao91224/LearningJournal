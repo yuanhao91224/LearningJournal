{
 "cells": [
  {
   "cell_type": "code",
   "execution_count": 1,
   "metadata": {},
   "outputs": [],
   "source": [
    "#import packages and dataset\n",
    "import pandas as pd\n",
    "import numpy as np\n",
    "import matplotlib.pyplot as plt\n",
    "g1800s=pd.read_csv('C://Users//liyua//Desktop//Python Dataset//gapminder.csv')"
   ]
  },
  {
   "cell_type": "markdown",
   "metadata": {},
   "source": [
    "# Initial exploration of the dataset"
   ]
  },
  {
   "cell_type": "code",
   "execution_count": 2,
   "metadata": {},
   "outputs": [
    {
     "name": "stdout",
     "output_type": "stream",
     "text": [
      "    1800  1801   1802   1803   1804   1805   1806   1807   1808   1809  ...  \\\n",
      "0    NaN   NaN    NaN    NaN    NaN    NaN    NaN    NaN    NaN    NaN  ...   \n",
      "1  28.21  28.2  28.19  28.18  28.17  28.16  28.15  28.14  28.13  28.12  ...   \n",
      "\n",
      "    1891   1892   1893   1894   1895   1896   1897   1898  1899  \\\n",
      "0    NaN    NaN    NaN    NaN    NaN    NaN    NaN    NaN   NaN   \n",
      "1  27.28  27.27  27.26  27.25  27.24  27.23  27.22  27.21  27.2   \n",
      "\n",
      "   Life expectancy  \n",
      "0         Abkhazia  \n",
      "1      Afghanistan  \n",
      "\n",
      "[2 rows x 101 columns]\n"
     ]
    }
   ],
   "source": [
    "print(g1800s.head(2))"
   ]
  },
  {
   "cell_type": "code",
   "execution_count": 3,
   "metadata": {},
   "outputs": [
    {
     "name": "stdout",
     "output_type": "stream",
     "text": [
      "<class 'pandas.core.frame.DataFrame'>\n",
      "RangeIndex: 260 entries, 0 to 259\n",
      "Columns: 101 entries, 1800 to Life expectancy\n",
      "dtypes: float64(100), object(1)\n",
      "memory usage: 205.2+ KB\n",
      "None\n"
     ]
    }
   ],
   "source": [
    "print(g1800s.info())"
   ]
  },
  {
   "cell_type": "code",
   "execution_count": 4,
   "metadata": {},
   "outputs": [
    {
     "name": "stdout",
     "output_type": "stream",
     "text": [
      "             1800        1801        1802        1803        1804        1805  \\\n",
      "count  201.000000  201.000000  201.000000  201.000000  201.000000  201.000000   \n",
      "mean    31.486020   31.448905   31.463483   31.377413   31.446318   31.562537   \n",
      "std      3.763585    3.755739    3.878204    3.901966    3.877156    3.947957   \n",
      "min     23.390000   23.390000   23.390000   19.600000   23.390000   23.390000   \n",
      "25%     29.000000   28.950000   28.900000   28.900000   28.950000   29.000000   \n",
      "50%     31.800000   31.700000   31.600000   31.500000   31.600000   31.700000   \n",
      "75%     33.900000   33.900000   33.900000   33.800000   33.870000   33.900000   \n",
      "max     42.850000   40.300000   44.370000   44.840000   42.830000   44.270000   \n",
      "\n",
      "             1806        1807        1808        1809  ...        1890  \\\n",
      "count  201.000000  201.000000  201.000000  201.000000  ...  201.000000   \n",
      "mean    31.615970   31.573134   31.376766   31.310448  ...   32.291045   \n",
      "std      4.039261    3.917339    4.017228    3.972970  ...    5.907298   \n",
      "min     23.390000   23.390000   12.480000   13.430000  ...    4.000000   \n",
      "25%     29.000000   29.000000   28.950000   28.820000  ...   29.200000   \n",
      "50%     31.800000   31.800000   31.600000   31.500000  ...   32.000000   \n",
      "75%     34.000000   34.000000   33.870000   33.800000  ...   35.000000   \n",
      "max     45.820000   43.560000   43.550000   41.740000  ...   50.480000   \n",
      "\n",
      "             1891        1892        1893        1894        1895        1896  \\\n",
      "count  201.000000  201.000000  201.000000  201.000000  201.000000  201.000000   \n",
      "mean    32.475373   32.478408   32.533085   32.747214   32.811841   32.895224   \n",
      "std      5.734794    5.825318    6.018269    5.822354    6.067020    6.344388   \n",
      "min      8.000000   14.000000    8.000000   22.180000   22.000000   20.000000   \n",
      "25%     29.200000   29.000000   29.000000   29.200000   29.200000   29.000000   \n",
      "50%     32.000000   32.000000   32.000000   32.000000   32.000000   32.000000   \n",
      "75%     35.100000   35.000000   35.000000   35.000000   35.000000   35.000000   \n",
      "max     51.090000   52.730000   52.580000   52.100000   54.160000   53.840000   \n",
      "\n",
      "             1897        1898        1899  \n",
      "count  201.000000  201.000000  201.000000  \n",
      "mean    32.964279   32.994080   32.962985  \n",
      "std      6.390669    6.336805    6.325265  \n",
      "min     19.000000   19.700000   18.900000  \n",
      "25%     29.200000   29.160000   29.000000  \n",
      "50%     32.000000   32.000000   32.000000  \n",
      "75%     35.000000   35.180000   35.180000  \n",
      "max     54.140000   54.690000   51.620000  \n",
      "\n",
      "[8 rows x 100 columns]\n"
     ]
    }
   ],
   "source": [
    "print(g1800s.describe())"
   ]
  },
  {
   "cell_type": "code",
   "execution_count": 5,
   "metadata": {},
   "outputs": [
    {
     "name": "stdout",
     "output_type": "stream",
     "text": [
      "(260, 101)\n"
     ]
    }
   ],
   "source": [
    "print(g1800s.shape)"
   ]
  },
  {
   "cell_type": "markdown",
   "metadata": {},
   "source": [
    "There are 260 rows represents 260 countries we are examining.\n",
    "There are 101 columns, in which 100 are years from 1800 to 1899 and 1 column is country names. "
   ]
  },
  {
   "cell_type": "markdown",
   "metadata": {},
   "source": [
    "# Visualization of the dataset"
   ]
  },
  {
   "cell_type": "code",
   "execution_count": 6,
   "metadata": {},
   "outputs": [
    {
     "data": {
      "image/png": "[encoded data removed]",
      "text/plain": [
       "<Figure size 432x288 with 1 Axes>"
      ]
     },
     "metadata": {
      "needs_background": "light"
     },
     "output_type": "display_data"
    }
   ],
   "source": [
    "g1800s.plot(kind='scatter', x='1800', y='1899')\n",
    "\n",
    "plt.xlabel('Life Expectancy by Country in 1800')\n",
    "plt.ylabel('Life Expectancy by Country in 1899')\n",
    "\n",
    "plt.xlim(20, 55)\n",
    "plt.ylim(20, 55)\n",
    "\n",
    "plt.show()"
   ]
  },
  {
   "cell_type": "markdown",
   "metadata": {},
   "source": [
    "The graph above shows that from 1800 to 1899 the life expectancy of a large number of countries remained the same. "
   ]
  },
  {
   "cell_type": "markdown",
   "metadata": {},
   "source": [
    "# Check the validation of the data"
   ]
  },
  {
   "cell_type": "code",
   "execution_count": 7,
   "metadata": {},
   "outputs": [
    {
     "ename": "AssertionError",
     "evalue": "",
     "output_type": "error",
     "traceback": [
      "\u001b[1;31m---------------------------------------------------------------------------\u001b[0m",
      "\u001b[1;31mAssertionError\u001b[0m                            Traceback (most recent call last)",
      "\u001b[1;32m<ipython-input-7-a82cf673eef9>\u001b[0m in \u001b[0;36m<module>\u001b[1;34m\u001b[0m\n\u001b[0;32m      6\u001b[0m     \u001b[1;32mreturn\u001b[0m \u001b[0mge0\u001b[0m\u001b[1;33m\u001b[0m\u001b[1;33m\u001b[0m\u001b[0m\n\u001b[0;32m      7\u001b[0m \u001b[1;33m\u001b[0m\u001b[0m\n\u001b[1;32m----> 8\u001b[1;33m \u001b[1;32massert\u001b[0m \u001b[0mg1800s\u001b[0m\u001b[1;33m.\u001b[0m\u001b[0mcolumns\u001b[0m\u001b[1;33m[\u001b[0m\u001b[1;36m0\u001b[0m\u001b[1;33m]\u001b[0m \u001b[1;33m==\u001b[0m \u001b[1;34m'Life expectancy'\u001b[0m\u001b[1;33m\u001b[0m\u001b[1;33m\u001b[0m\u001b[0m\n\u001b[0m\u001b[0;32m      9\u001b[0m \u001b[1;32massert\u001b[0m \u001b[0mg1800s\u001b[0m\u001b[1;33m.\u001b[0m\u001b[0miloc\u001b[0m\u001b[1;33m[\u001b[0m\u001b[1;33m:\u001b[0m\u001b[1;33m,\u001b[0m \u001b[1;36m1\u001b[0m\u001b[1;33m:\u001b[0m\u001b[1;33m]\u001b[0m\u001b[1;33m.\u001b[0m\u001b[0mapply\u001b[0m\u001b[1;33m(\u001b[0m\u001b[0mcheck_null_or_valid\u001b[0m\u001b[1;33m,\u001b[0m \u001b[0maxis\u001b[0m\u001b[1;33m=\u001b[0m\u001b[1;36m1\u001b[0m\u001b[1;33m)\u001b[0m\u001b[1;33m.\u001b[0m\u001b[0mall\u001b[0m\u001b[1;33m(\u001b[0m\u001b[1;33m)\u001b[0m\u001b[1;33m.\u001b[0m\u001b[0mall\u001b[0m\u001b[1;33m(\u001b[0m\u001b[1;33m)\u001b[0m\u001b[1;33m\u001b[0m\u001b[1;33m\u001b[0m\u001b[0m\n\u001b[0;32m     10\u001b[0m \u001b[1;32massert\u001b[0m \u001b[0mg1800s\u001b[0m\u001b[1;33m[\u001b[0m\u001b[1;34m'Life expectancy'\u001b[0m\u001b[1;33m]\u001b[0m\u001b[1;33m.\u001b[0m\u001b[0mvalue_counts\u001b[0m\u001b[1;33m(\u001b[0m\u001b[1;33m)\u001b[0m\u001b[1;33m[\u001b[0m\u001b[1;36m0\u001b[0m\u001b[1;33m]\u001b[0m \u001b[1;33m==\u001b[0m \u001b[1;36m1\u001b[0m\u001b[1;33m\u001b[0m\u001b[1;33m\u001b[0m\u001b[0m\n",
      "\u001b[1;31mAssertionError\u001b[0m: "
     ]
    }
   ],
   "source": [
    "#Check if there is missing value and make sure that all the values are equal or greater than 0 since no one lives under age of 0.\n",
    "def check_null_or_valid(row_data):\n",
    "    no_na = row_data.dropna() #Drops missing value\n",
    "    numeric = pd.to_numeric(no_na) #Make sure that all values are numeric\n",
    "    ge0 = numeric >= 0 #Make sure that all values are equal or greater than 0\n",
    "    return ge0\n",
    "\n",
    "assert g1800s.columns[0] == 'Life expectancy'\n",
    "assert g1800s.iloc[:, 1:].apply(check_null_or_valid, axis=1).all().all()\n",
    "assert g1800s['Life expectancy'].value_counts()[0] == 1 "
   ]
  },
  {
   "cell_type": "markdown",
   "metadata": {},
   "source": [
    "There is an AssertionError occurs which indicate that the first column is not 'Life expectancy'. So next, I will move the 'Life expectancy to the first."
   ]
  },
  {
   "cell_type": "code",
   "execution_count": 8,
   "metadata": {},
   "outputs": [
    {
     "data": {
      "text/plain": [
       "['1800',\n",
       " '1801',\n",
       " '1802',\n",
       " '1803',\n",
       " '1804',\n",
       " '1805',\n",
       " '1806',\n",
       " '1807',\n",
       " '1808',\n",
       " '1809',\n",
       " '1810',\n",
       " '1811',\n",
       " '1812',\n",
       " '1813',\n",
       " '1814',\n",
       " '1815',\n",
       " '1816',\n",
       " '1817',\n",
       " '1818',\n",
       " '1819',\n",
       " '1820',\n",
       " '1821',\n",
       " '1822',\n",
       " '1823',\n",
       " '1824',\n",
       " '1825',\n",
       " '1826',\n",
       " '1827',\n",
       " '1828',\n",
       " '1829',\n",
       " '1830',\n",
       " '1831',\n",
       " '1832',\n",
       " '1833',\n",
       " '1834',\n",
       " '1835',\n",
       " '1836',\n",
       " '1837',\n",
       " '1838',\n",
       " '1839',\n",
       " '1840',\n",
       " '1841',\n",
       " '1842',\n",
       " '1843',\n",
       " '1844',\n",
       " '1845',\n",
       " '1846',\n",
       " '1847',\n",
       " '1848',\n",
       " '1849',\n",
       " '1850',\n",
       " '1851',\n",
       " '1852',\n",
       " '1853',\n",
       " '1854',\n",
       " '1855',\n",
       " '1856',\n",
       " '1857',\n",
       " '1858',\n",
       " '1859',\n",
       " '1860',\n",
       " '1861',\n",
       " '1862',\n",
       " '1863',\n",
       " '1864',\n",
       " '1865',\n",
       " '1866',\n",
       " '1867',\n",
       " '1868',\n",
       " '1869',\n",
       " '1870',\n",
       " '1871',\n",
       " '1872',\n",
       " '1873',\n",
       " '1874',\n",
       " '1875',\n",
       " '1876',\n",
       " '1877',\n",
       " '1878',\n",
       " '1879',\n",
       " '1880',\n",
       " '1881',\n",
       " '1882',\n",
       " '1883',\n",
       " '1884',\n",
       " '1885',\n",
       " '1886',\n",
       " '1887',\n",
       " '1888',\n",
       " '1889',\n",
       " '1890',\n",
       " '1891',\n",
       " '1892',\n",
       " '1893',\n",
       " '1894',\n",
       " '1895',\n",
       " '1896',\n",
       " '1897',\n",
       " '1898',\n",
       " '1899',\n",
       " 'Life expectancy']"
      ]
     },
     "execution_count": 8,
     "metadata": {},
     "output_type": "execute_result"
    }
   ],
   "source": [
    "cols=g1800s.columns.tolist()\n",
    "cols"
   ]
  },
  {
   "cell_type": "code",
   "execution_count": 9,
   "metadata": {},
   "outputs": [],
   "source": [
    "cols=cols[-1:]+cols[:-1] #This rearranges the order of the columns and next I will apply this new order to the dataset\n",
    "g1800s=g1800s[cols]\n",
    "\n",
    "#Check again\n",
    "def check_null_or_valid(row_data):\n",
    "    no_na = row_data.dropna() \n",
    "    numeric = pd.to_numeric(no_na)\n",
    "    ge0 = numeric >= 0 \n",
    "    return ge0\n",
    "\n",
    "assert g1800s.columns[0] == 'Life expectancy'\n",
    "assert g1800s.iloc[:, 1:].apply(check_null_or_valid, axis=1).all().all()\n",
    "assert g1800s['Life expectancy'].value_counts()[0] == 1 "
   ]
  },
  {
   "cell_type": "markdown",
   "metadata": {},
   "source": [
    "I have rearranged the order of this dataset with 'Life expectancy' is the first column. I do not need to print it because the assert function does not return any error. Then I will move on. "
   ]
  },
  {
   "cell_type": "markdown",
   "metadata": {},
   "source": [
    "# Concatenate datasets"
   ]
  },
  {
   "cell_type": "code",
   "execution_count": 10,
   "metadata": {},
   "outputs": [
    {
     "name": "stdout",
     "output_type": "stream",
     "text": [
      "(780, 218)\n",
      "    1800  1801   1802   1803   1804   1805   1806   1807   1808   1809  ...  \\\n",
      "0    NaN   NaN    NaN    NaN    NaN    NaN    NaN    NaN    NaN    NaN  ...   \n",
      "1  28.21  28.2  28.19  28.18  28.17  28.16  28.15  28.14  28.13  28.12  ...   \n",
      "2    NaN   NaN    NaN    NaN    NaN    NaN    NaN    NaN    NaN    NaN  ...   \n",
      "\n",
      "   2008  2009  2010  2011  2012  2013  2014  2015  2016        Life expectancy  \n",
      "0   NaN   NaN   NaN   NaN   NaN   NaN   NaN   NaN   NaN               Abkhazia  \n",
      "1   NaN   NaN   NaN   NaN   NaN   NaN   NaN   NaN   NaN            Afghanistan  \n",
      "2   NaN   NaN   NaN   NaN   NaN   NaN   NaN   NaN   NaN  Akrotiri and Dhekelia  \n",
      "\n",
      "[3 rows x 218 columns]\n"
     ]
    },
    {
     "name": "stderr",
     "output_type": "stream",
     "text": [
      "C:\\Users\\liyua\\Anaconda3\\lib\\site-packages\\ipykernel_launcher.py:3: FutureWarning: Sorting because non-concatenation axis is not aligned. A future version\n",
      "of pandas will change to not sort by default.\n",
      "\n",
      "To accept the future behavior, pass 'sort=False'.\n",
      "\n",
      "To retain the current behavior and silence the warning, pass 'sort=True'.\n",
      "\n",
      "  This is separate from the ipykernel package so we can avoid doing imports until\n"
     ]
    }
   ],
   "source": [
    "g1900s=pd.read_csv('C://Users//liyua//Desktop//Python Dataset//g1900s.csv')\n",
    "g2000s=pd.read_csv('C://Users//liyua//Desktop//Python Dataset//g2000s.csv')\n",
    "gapminder=pd.concat([g1800s,g1900s,g2000s])\n",
    "\n",
    "print(gapminder.shape)\n",
    "print(gapminder.head(3))"
   ]
  },
  {
   "cell_type": "markdown",
   "metadata": {},
   "source": [
    "In the next practice, I will reshape the dataset. For now, I have the life expectancy for each year in separate columns. And I will convert the dataframe into a tidy format that contains only three columns: 'country', 'year', 'life expectancy'."
   ]
  },
  {
   "cell_type": "code",
   "execution_count": 11,
   "metadata": {},
   "outputs": [
    {
     "name": "stdout",
     "output_type": "stream",
     "text": [
      "                 country  year  life_expectancy\n",
      "0               Abkhazia  1800              NaN\n",
      "1            Afghanistan  1800            28.21\n",
      "2  Akrotiri and Dhekelia  1800              NaN\n",
      "3                Albania  1800            35.40\n",
      "4                Algeria  1800            28.82\n"
     ]
    }
   ],
   "source": [
    "gapminder_melt = pd.melt(gapminder,id_vars='Life expectancy')\n",
    "gapminder_melt.columns = ['country','year','life_expectancy']\n",
    "\n",
    "print(gapminder_melt.head())"
   ]
  },
  {
   "cell_type": "code",
   "execution_count": 13,
   "metadata": {},
   "outputs": [
    {
     "name": "stdout",
     "output_type": "stream",
     "text": [
      "<class 'pandas.core.frame.DataFrame'>\n",
      "RangeIndex: 169260 entries, 0 to 169259\n",
      "Data columns (total 3 columns):\n",
      "country            169260 non-null object\n",
      "year               169260 non-null object\n",
      "life_expectancy    43857 non-null float64\n",
      "dtypes: float64(1), object(2)\n",
      "memory usage: 3.9+ MB\n",
      "None\n"
     ]
    }
   ],
   "source": [
    "# This step will ensure that all these columns are in proper data type\n",
    "print(gapminder_melt.info())"
   ]
  },
  {
   "cell_type": "markdown",
   "metadata": {},
   "source": [
    "The column 'year' should be in numeric instead of object. Let's do this."
   ]
  },
  {
   "cell_type": "code",
   "execution_count": 14,
   "metadata": {},
   "outputs": [],
   "source": [
    "gapminder_melt.year = pd.to_numeric(gapminder_melt.year)\n",
    "\n",
    "# Test if columns are of proper data type\n",
    "assert gapminder_melt.country.dtypes == np.object\n",
    "assert gapminder_melt.year.dtypes == np.int64\n",
    "assert gapminder_melt.life_expectancy.dtypes == np.float64"
   ]
  },
  {
   "cell_type": "markdown",
   "metadata": {},
   "source": [
    "No AssertionError returned. We are good to proceed.\n",
    "\n",
    "And next, I need to see if the spelling of country names are in proper format."
   ]
  },
  {
   "cell_type": "code",
   "execution_count": 15,
   "metadata": {},
   "outputs": [
    {
     "name": "stdout",
     "output_type": "stream",
     "text": [
      "49            Congo, Dem. Rep.\n",
      "50                 Congo, Rep.\n",
      "53               Cote d'Ivoire\n",
      "73      Falkland Is (Malvinas)\n",
      "93               Guinea-Bissau\n",
      "98            Hong Kong, China\n",
      "118    United Korea (former)\\n\n",
      "131               Macao, China\n",
      "132             Macedonia, FYR\n",
      "145      Micronesia, Fed. Sts.\n",
      "161            Ngorno-Karabakh\n",
      "187             St. Barthélemy\n",
      "193     St.-Pierre-et-Miquelon\n",
      "225                Timor-Leste\n",
      "251      Virgin Islands (U.S.)\n",
      "252       North Yemen (former)\n",
      "253       South Yemen (former)\n",
      "258                      Åland\n",
      "Name: country, dtype: object\n"
     ]
    }
   ],
   "source": [
    "# Assumption of proper country names\n",
    "#  1. The set of lower and upper case letters.\n",
    "#  2. Whitespace between words.\n",
    "#  3. Periods for any abbreviations.\n",
    "# The regular expression of country names should be: '^[A-Za-z\\.\\s]*$' that A-Za-z matches the set of lower and upper case letters, \\. matches periods, and \\s matches whitespace between words.\n",
    "\n",
    "countries = gapminder_melt['country']\n",
    "countries = countries.drop_duplicates()\n",
    "pattern = '^[A-Za-z\\.\\s]*$'\n",
    "mask = countries.str.contains(pattern)\n",
    "mask_inverse = ~mask\n",
    "invalid_countries = countries.loc[mask_inverse]\n",
    "print(invalid_countries)"
   ]
  },
  {
   "cell_type": "markdown",
   "metadata": {},
   "source": [
    "Next, I will check missing values and deal with them."
   ]
  },
  {
   "cell_type": "code",
   "execution_count": 16,
   "metadata": {},
   "outputs": [],
   "source": [
    "assert pd.notnull(gapminder_melt.country).all()\n",
    "assert pd.notnull(gapminder_melt.year).all()"
   ]
  },
  {
   "cell_type": "markdown",
   "metadata": {},
   "source": [
    "No error returned, so there is no missing values. And we can go ahead and drop missing values in life_expectancy."
   ]
  },
  {
   "cell_type": "code",
   "execution_count": 17,
   "metadata": {},
   "outputs": [
    {
     "name": "stdout",
     "output_type": "stream",
     "text": [
      "(43857, 3)\n"
     ]
    }
   ],
   "source": [
    "gapminder = gapminder_melt.dropna(how='any') #how='any' specify that rows with any missing values should be dropped.\n",
    "print(gapminder.shape)"
   ]
  },
  {
   "cell_type": "markdown",
   "metadata": {},
   "source": [
    "Now, the dataset 'gapminder' is clean and tidy. And we can use this dataset to work on furthur analysis."
   ]
  },
  {
   "cell_type": "code",
   "execution_count": 18,
   "metadata": {},
   "outputs": [
    {
     "name": "stdout",
     "output_type": "stream",
     "text": [
      "year\n",
      "1800    31.486020\n",
      "1801    31.448905\n",
      "1802    31.463483\n",
      "1803    31.377413\n",
      "1804    31.446318\n",
      "Name: life_expectancy, dtype: float64\n",
      "year\n",
      "2012    71.663077\n",
      "2013    71.916106\n",
      "2014    72.088125\n",
      "2015    72.321010\n",
      "2016    72.556635\n",
      "Name: life_expectancy, dtype: float64\n"
     ]
    },
    {
     "data": {
      "image/png": "[encoded data removed]",
      "text/plain": [
       "<Figure size 432x288 with 2 Axes>"
      ]
     },
     "metadata": {
      "needs_background": "light"
     },
     "output_type": "display_data"
    }
   ],
   "source": [
    "# Add first subplot\n",
    "plt.subplot(2, 1, 1) \n",
    "gapminder.life_expectancy.plot(kind='hist')\n",
    "gapminder_agg = gapminder.groupby('year')['life_expectancy'].mean()\n",
    "print(gapminder_agg.head())\n",
    "print(gapminder_agg.tail())\n",
    "\n",
    "plt.subplot(2, 1, 2)\n",
    "gapminder.life_expectancy.plot(kind='line')\n",
    "\n",
    "plt.title('Life expectancy over the years')\n",
    "plt.ylabel('Life expectancy')\n",
    "plt.xlabel('Year')\n",
    "\n",
    "plt.tight_layout()\n",
    "plt.show()"
   ]
  },
  {
   "cell_type": "code",
   "execution_count": null,
   "metadata": {},
   "outputs": [],
   "source": []
  }
 ],
 "metadata": {
  "kernelspec": {
   "display_name": "Python 3",
   "language": "python",
   "name": "python3"
  },
  "language_info": {
   "codemirror_mode": {
    "name": "ipython",
    "version": 3
   },
   "file_extension": ".py",
   "mimetype": "text/x-python",
   "name": "python",
   "nbconvert_exporter": "python",
   "pygments_lexer": "ipython3",
   "version": "3.7.1"
  }
 },
 "nbformat": 4,
 "nbformat_minor": 2
}
